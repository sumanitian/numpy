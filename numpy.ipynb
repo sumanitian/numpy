{
 "cells": [
  {
   "cell_type": "code",
   "execution_count": 1,
   "metadata": {},
   "outputs": [
    {
     "ename": "LinAlgError",
     "evalue": "Last 2 dimensions of the array must be square",
     "output_type": "error",
     "traceback": [
      "\u001b[1;31m---------------------------------------------------------------------------\u001b[0m",
      "\u001b[1;31mLinAlgError\u001b[0m                               Traceback (most recent call last)",
      "\u001b[1;32mc:\\kunal\\Numpy\\numpy.ipynb Cell 1\u001b[0m in \u001b[0;36m<cell line: 8>\u001b[1;34m()\u001b[0m\n\u001b[0;32m      <a href='vscode-notebook-cell:/c%3A/kunal/Numpy/numpy.ipynb#W0sZmlsZQ%3D%3D?line=4'>5</a>\u001b[0m b \u001b[39m=\u001b[39m np\u001b[39m.\u001b[39marray([[\u001b[39m1\u001b[39m], [\u001b[39m-\u001b[39m\u001b[39m2\u001b[39m]])\n\u001b[0;32m      <a href='vscode-notebook-cell:/c%3A/kunal/Numpy/numpy.ipynb#W0sZmlsZQ%3D%3D?line=6'>7</a>\u001b[0m \u001b[39m# Solve the equation A.x=b using numpy's linalg.solve() function\u001b[39;00m\n\u001b[1;32m----> <a href='vscode-notebook-cell:/c%3A/kunal/Numpy/numpy.ipynb#W0sZmlsZQ%3D%3D?line=7'>8</a>\u001b[0m x \u001b[39m=\u001b[39m np\u001b[39m.\u001b[39;49mlinalg\u001b[39m.\u001b[39;49msolve(A, b)\n\u001b[0;32m     <a href='vscode-notebook-cell:/c%3A/kunal/Numpy/numpy.ipynb#W0sZmlsZQ%3D%3D?line=9'>10</a>\u001b[0m \u001b[39m# Print the solution set\u001b[39;00m\n\u001b[0;32m     <a href='vscode-notebook-cell:/c%3A/kunal/Numpy/numpy.ipynb#W0sZmlsZQ%3D%3D?line=10'>11</a>\u001b[0m \u001b[39mprint\u001b[39m(\u001b[39m\"\u001b[39m\u001b[39mThe solution set of A.x=b is:\u001b[39m\u001b[39m\"\u001b[39m, x)\n",
      "File \u001b[1;32m<__array_function__ internals>:5\u001b[0m, in \u001b[0;36msolve\u001b[1;34m(*args, **kwargs)\u001b[0m\n",
      "File \u001b[1;32mc:\\Users\\suman\\AppData\\Local\\Programs\\Python\\Python39\\lib\\site-packages\\numpy\\linalg\\linalg.py:380\u001b[0m, in \u001b[0;36msolve\u001b[1;34m(a, b)\u001b[0m\n\u001b[0;32m    378\u001b[0m a, _ \u001b[39m=\u001b[39m _makearray(a)\n\u001b[0;32m    379\u001b[0m _assert_stacked_2d(a)\n\u001b[1;32m--> 380\u001b[0m _assert_stacked_square(a)\n\u001b[0;32m    381\u001b[0m b, wrap \u001b[39m=\u001b[39m _makearray(b)\n\u001b[0;32m    382\u001b[0m t, result_t \u001b[39m=\u001b[39m _commonType(a, b)\n",
      "File \u001b[1;32mc:\\Users\\suman\\AppData\\Local\\Programs\\Python\\Python39\\lib\\site-packages\\numpy\\linalg\\linalg.py:203\u001b[0m, in \u001b[0;36m_assert_stacked_square\u001b[1;34m(*arrays)\u001b[0m\n\u001b[0;32m    201\u001b[0m m, n \u001b[39m=\u001b[39m a\u001b[39m.\u001b[39mshape[\u001b[39m-\u001b[39m\u001b[39m2\u001b[39m:]\n\u001b[0;32m    202\u001b[0m \u001b[39mif\u001b[39;00m m \u001b[39m!=\u001b[39m n:\n\u001b[1;32m--> 203\u001b[0m     \u001b[39mraise\u001b[39;00m LinAlgError(\u001b[39m'\u001b[39m\u001b[39mLast 2 dimensions of the array must be square\u001b[39m\u001b[39m'\u001b[39m)\n",
      "\u001b[1;31mLinAlgError\u001b[0m: Last 2 dimensions of the array must be square"
     ]
    }
   ],
   "source": [
    "import numpy as np\n",
    "\n",
    "# Define the matrices A and b\n",
    "A = np.array([[1, -1, 2], [-2, 2, -4]])\n",
    "b = np.array([[1], [-2]])\n",
    "\n",
    "# Solve the equation A.x=b using numpy's linalg.solve() function\n",
    "x = np.linalg.solve(A, b)\n",
    "\n",
    "# Print the solution set\n",
    "print(\"The solution set of A.x=b is:\", x)\n",
    "# print(x)"
   ]
  },
  {
   "cell_type": "code",
   "execution_count": 3,
   "metadata": {},
   "outputs": [
    {
     "ename": "LinAlgError",
     "evalue": "Last 2 dimensions of the array must be square",
     "output_type": "error",
     "traceback": [
      "\u001b[1;31m---------------------------------------------------------------------------\u001b[0m",
      "\u001b[1;31mLinAlgError\u001b[0m                               Traceback (most recent call last)",
      "\u001b[1;32mc:\\kunal\\Numpy\\numpy.ipynb Cell 2\u001b[0m in \u001b[0;36m<cell line: 9>\u001b[1;34m()\u001b[0m\n\u001b[0;32m      <a href='vscode-notebook-cell:/c%3A/kunal/Numpy/numpy.ipynb#W1sZmlsZQ%3D%3D?line=5'>6</a>\u001b[0m b \u001b[39m=\u001b[39m np\u001b[39m.\u001b[39marray([\u001b[39m1\u001b[39m, \u001b[39m-\u001b[39m\u001b[39m2\u001b[39m])\n\u001b[0;32m      <a href='vscode-notebook-cell:/c%3A/kunal/Numpy/numpy.ipynb#W1sZmlsZQ%3D%3D?line=7'>8</a>\u001b[0m \u001b[39m# Solve the system of equations\u001b[39;00m\n\u001b[1;32m----> <a href='vscode-notebook-cell:/c%3A/kunal/Numpy/numpy.ipynb#W1sZmlsZQ%3D%3D?line=8'>9</a>\u001b[0m x \u001b[39m=\u001b[39m np\u001b[39m.\u001b[39;49mlinalg\u001b[39m.\u001b[39;49msolve(A, b)\n\u001b[0;32m     <a href='vscode-notebook-cell:/c%3A/kunal/Numpy/numpy.ipynb#W1sZmlsZQ%3D%3D?line=10'>11</a>\u001b[0m \u001b[39m# Print the solution\u001b[39;00m\n\u001b[0;32m     <a href='vscode-notebook-cell:/c%3A/kunal/Numpy/numpy.ipynb#W1sZmlsZQ%3D%3D?line=11'>12</a>\u001b[0m \u001b[39mprint\u001b[39m(\u001b[39m\"\u001b[39m\u001b[39mThe solution is:\u001b[39m\u001b[39m\"\u001b[39m, x)\n",
      "File \u001b[1;32m<__array_function__ internals>:5\u001b[0m, in \u001b[0;36msolve\u001b[1;34m(*args, **kwargs)\u001b[0m\n",
      "File \u001b[1;32mc:\\Users\\suman\\AppData\\Local\\Programs\\Python\\Python39\\lib\\site-packages\\numpy\\linalg\\linalg.py:380\u001b[0m, in \u001b[0;36msolve\u001b[1;34m(a, b)\u001b[0m\n\u001b[0;32m    378\u001b[0m a, _ \u001b[39m=\u001b[39m _makearray(a)\n\u001b[0;32m    379\u001b[0m _assert_stacked_2d(a)\n\u001b[1;32m--> 380\u001b[0m _assert_stacked_square(a)\n\u001b[0;32m    381\u001b[0m b, wrap \u001b[39m=\u001b[39m _makearray(b)\n\u001b[0;32m    382\u001b[0m t, result_t \u001b[39m=\u001b[39m _commonType(a, b)\n",
      "File \u001b[1;32mc:\\Users\\suman\\AppData\\Local\\Programs\\Python\\Python39\\lib\\site-packages\\numpy\\linalg\\linalg.py:203\u001b[0m, in \u001b[0;36m_assert_stacked_square\u001b[1;34m(*arrays)\u001b[0m\n\u001b[0;32m    201\u001b[0m m, n \u001b[39m=\u001b[39m a\u001b[39m.\u001b[39mshape[\u001b[39m-\u001b[39m\u001b[39m2\u001b[39m:]\n\u001b[0;32m    202\u001b[0m \u001b[39mif\u001b[39;00m m \u001b[39m!=\u001b[39m n:\n\u001b[1;32m--> 203\u001b[0m     \u001b[39mraise\u001b[39;00m LinAlgError(\u001b[39m'\u001b[39m\u001b[39mLast 2 dimensions of the array must be square\u001b[39m\u001b[39m'\u001b[39m)\n",
      "\u001b[1;31mLinAlgError\u001b[0m: Last 2 dimensions of the array must be square"
     ]
    }
   ],
   "source": [
    "import numpy as np\n",
    "\n",
    "A = np.array([[1, -1, 2],\n",
    "              [-2, 2, -4]])\n",
    "\n",
    "b = np.array([1, -2])\n",
    "\n",
    "# Solve the system of equations\n",
    "x = np.linalg.solve(A, b)\n",
    "\n",
    "# Print the solution\n",
    "print(\"The solution is:\", x)\n",
    "\n"
   ]
  },
  {
   "cell_type": "code",
   "execution_count": 6,
   "metadata": {},
   "outputs": [
    {
     "ename": "LinAlgError",
     "evalue": "Singular matrix",
     "output_type": "error",
     "traceback": [
      "\u001b[1;31m---------------------------------------------------------------------------\u001b[0m",
      "\u001b[1;31mLinAlgError\u001b[0m                               Traceback (most recent call last)",
      "\u001b[1;32mc:\\kunal\\Numpy\\numpy.ipynb Cell 3\u001b[0m in \u001b[0;36m<cell line: 7>\u001b[1;34m()\u001b[0m\n\u001b[0;32m      <a href='vscode-notebook-cell:/c%3A/kunal/Numpy/numpy.ipynb#W2sZmlsZQ%3D%3D?line=3'>4</a>\u001b[0m arr \u001b[39m=\u001b[39m np\u001b[39m.\u001b[39marray([[\u001b[39m1\u001b[39m, \u001b[39m2\u001b[39m, \u001b[39m3\u001b[39m], [\u001b[39m4\u001b[39m, \u001b[39m5\u001b[39m, \u001b[39m6\u001b[39m], [\u001b[39m7\u001b[39m, \u001b[39m8\u001b[39m, \u001b[39m9\u001b[39m]])\n\u001b[0;32m      <a href='vscode-notebook-cell:/c%3A/kunal/Numpy/numpy.ipynb#W2sZmlsZQ%3D%3D?line=5'>6</a>\u001b[0m \u001b[39m# Attempting to perform a linear algebra operation\u001b[39;00m\n\u001b[1;32m----> <a href='vscode-notebook-cell:/c%3A/kunal/Numpy/numpy.ipynb#W2sZmlsZQ%3D%3D?line=6'>7</a>\u001b[0m inver \u001b[39m=\u001b[39m np\u001b[39m.\u001b[39;49mlinalg\u001b[39m.\u001b[39;49minv(arr)\n\u001b[0;32m      <a href='vscode-notebook-cell:/c%3A/kunal/Numpy/numpy.ipynb#W2sZmlsZQ%3D%3D?line=7'>8</a>\u001b[0m \u001b[39mprint\u001b[39m(inver)\n",
      "File \u001b[1;32m<__array_function__ internals>:5\u001b[0m, in \u001b[0;36minv\u001b[1;34m(*args, **kwargs)\u001b[0m\n",
      "File \u001b[1;32mc:\\Users\\suman\\AppData\\Local\\Programs\\Python\\Python39\\lib\\site-packages\\numpy\\linalg\\linalg.py:545\u001b[0m, in \u001b[0;36minv\u001b[1;34m(a)\u001b[0m\n\u001b[0;32m    543\u001b[0m signature \u001b[39m=\u001b[39m \u001b[39m'\u001b[39m\u001b[39mD->D\u001b[39m\u001b[39m'\u001b[39m \u001b[39mif\u001b[39;00m isComplexType(t) \u001b[39melse\u001b[39;00m \u001b[39m'\u001b[39m\u001b[39md->d\u001b[39m\u001b[39m'\u001b[39m\n\u001b[0;32m    544\u001b[0m extobj \u001b[39m=\u001b[39m get_linalg_error_extobj(_raise_linalgerror_singular)\n\u001b[1;32m--> 545\u001b[0m ainv \u001b[39m=\u001b[39m _umath_linalg\u001b[39m.\u001b[39;49minv(a, signature\u001b[39m=\u001b[39;49msignature, extobj\u001b[39m=\u001b[39;49mextobj)\n\u001b[0;32m    546\u001b[0m \u001b[39mreturn\u001b[39;00m wrap(ainv\u001b[39m.\u001b[39mastype(result_t, copy\u001b[39m=\u001b[39m\u001b[39mFalse\u001b[39;00m))\n",
      "File \u001b[1;32mc:\\Users\\suman\\AppData\\Local\\Programs\\Python\\Python39\\lib\\site-packages\\numpy\\linalg\\linalg.py:88\u001b[0m, in \u001b[0;36m_raise_linalgerror_singular\u001b[1;34m(err, flag)\u001b[0m\n\u001b[0;32m     87\u001b[0m \u001b[39mdef\u001b[39;00m \u001b[39m_raise_linalgerror_singular\u001b[39m(err, flag):\n\u001b[1;32m---> 88\u001b[0m     \u001b[39mraise\u001b[39;00m LinAlgError(\u001b[39m\"\u001b[39m\u001b[39mSingular matrix\u001b[39m\u001b[39m\"\u001b[39m)\n",
      "\u001b[1;31mLinAlgError\u001b[0m: Singular matrix"
     ]
    }
   ],
   "source": [
    "import numpy as np\n",
    "\n",
    "# Creating a square matrix\n",
    "arr = np.array([[1, 2, 3], [4, 5, 6], [7, 8, 9]])\n",
    "\n",
    "# Attempting to perform a linear algebra operation\n",
    "inver = np.linalg.inv(arr)\n",
    "print(inver)"
   ]
  },
  {
   "cell_type": "code",
   "execution_count": 7,
   "metadata": {},
   "outputs": [
    {
     "ename": "ValueError",
     "evalue": "matmul: Input operand 1 has a mismatch in its core dimension 0, with gufunc signature (n?,k),(k,m?)->(n?,m?) (size 2 is different from 3)",
     "output_type": "error",
     "traceback": [
      "\u001b[1;31m---------------------------------------------------------------------------\u001b[0m",
      "\u001b[1;31mValueError\u001b[0m                                Traceback (most recent call last)",
      "\u001b[1;32mc:\\kunal\\Numpy\\numpy.ipynb Cell 4\u001b[0m in \u001b[0;36m<cell line: 13>\u001b[1;34m()\u001b[0m\n\u001b[0;32m     <a href='vscode-notebook-cell:/c%3A/kunal/Numpy/numpy.ipynb#W3sZmlsZQ%3D%3D?line=10'>11</a>\u001b[0m \u001b[39m# Compute the pseudoinverse of A using the singular values and vectors\u001b[39;00m\n\u001b[0;32m     <a href='vscode-notebook-cell:/c%3A/kunal/Numpy/numpy.ipynb#W3sZmlsZQ%3D%3D?line=11'>12</a>\u001b[0m Sinv \u001b[39m=\u001b[39m np\u001b[39m.\u001b[39mdiag(\u001b[39m1\u001b[39m\u001b[39m/\u001b[39ms)\n\u001b[1;32m---> <a href='vscode-notebook-cell:/c%3A/kunal/Numpy/numpy.ipynb#W3sZmlsZQ%3D%3D?line=12'>13</a>\u001b[0m Apinv \u001b[39m=\u001b[39m Vt\u001b[39m.\u001b[39;49mT \u001b[39m@\u001b[39;49m Sinv \u001b[39m@\u001b[39m U\u001b[39m.\u001b[39mT\n\u001b[0;32m     <a href='vscode-notebook-cell:/c%3A/kunal/Numpy/numpy.ipynb#W3sZmlsZQ%3D%3D?line=14'>15</a>\u001b[0m \u001b[39m# Compute the least-squares solution to the system\u001b[39;00m\n\u001b[0;32m     <a href='vscode-notebook-cell:/c%3A/kunal/Numpy/numpy.ipynb#W3sZmlsZQ%3D%3D?line=15'>16</a>\u001b[0m x \u001b[39m=\u001b[39m Apinv \u001b[39m@\u001b[39m b\n",
      "\u001b[1;31mValueError\u001b[0m: matmul: Input operand 1 has a mismatch in its core dimension 0, with gufunc signature (n?,k),(k,m?)->(n?,m?) (size 2 is different from 3)"
     ]
    }
   ],
   "source": [
    "import numpy as np\n",
    "\n",
    "A = np.array([[1, -1, 2],[-2, 2, -4]])\n",
    "\n",
    "b = np.array([1, -2])\n",
    "\n",
    "# Compute the singular value decomposition of A\n",
    "U, s, Vt = np.linalg.svd(A)\n",
    "\n",
    "# Compute the pseudoinverse of A using the singular values and vectors\n",
    "Sinv = np.diag(1/s)\n",
    "Apinv = Vt.T @ Sinv @ U.T\n",
    "\n",
    "# Compute the least-squares solution to the system\n",
    "x = Apinv @ b\n",
    "\n",
    "# Print the solution\n",
    "print(\"The solution is:\", x)\n",
    "\n"
   ]
  },
  {
   "cell_type": "code",
   "execution_count": 8,
   "metadata": {},
   "outputs": [
    {
     "ename": "LinAlgError",
     "evalue": "Last 2 dimensions of the array must be square",
     "output_type": "error",
     "traceback": [
      "\u001b[1;31m---------------------------------------------------------------------------\u001b[0m",
      "\u001b[1;31mLinAlgError\u001b[0m                               Traceback (most recent call last)",
      "\u001b[1;32mc:\\kunal\\Numpy\\numpy.ipynb Cell 5\u001b[0m in \u001b[0;36m<cell line: 9>\u001b[1;34m()\u001b[0m\n\u001b[0;32m      <a href='vscode-notebook-cell:/c%3A/kunal/Numpy/numpy.ipynb#W4sZmlsZQ%3D%3D?line=5'>6</a>\u001b[0m b \u001b[39m=\u001b[39m np\u001b[39m.\u001b[39marray([[\u001b[39m1\u001b[39m, \u001b[39m-\u001b[39m\u001b[39m2\u001b[39m, \u001b[39m1\u001b[39m], [\u001b[39m1\u001b[39m, \u001b[39m2\u001b[39m, \u001b[39m3\u001b[39m], [\u001b[39m2\u001b[39m, \u001b[39m4\u001b[39m, \u001b[39m2\u001b[39m]])\n\u001b[0;32m      <a href='vscode-notebook-cell:/c%3A/kunal/Numpy/numpy.ipynb#W4sZmlsZQ%3D%3D?line=7'>8</a>\u001b[0m \u001b[39m# Solve the system of equations\u001b[39;00m\n\u001b[1;32m----> <a href='vscode-notebook-cell:/c%3A/kunal/Numpy/numpy.ipynb#W4sZmlsZQ%3D%3D?line=8'>9</a>\u001b[0m x \u001b[39m=\u001b[39m np\u001b[39m.\u001b[39;49mlinalg\u001b[39m.\u001b[39;49msolve(A, b)\n\u001b[0;32m     <a href='vscode-notebook-cell:/c%3A/kunal/Numpy/numpy.ipynb#W4sZmlsZQ%3D%3D?line=10'>11</a>\u001b[0m \u001b[39m# Print the solution\u001b[39;00m\n\u001b[0;32m     <a href='vscode-notebook-cell:/c%3A/kunal/Numpy/numpy.ipynb#W4sZmlsZQ%3D%3D?line=11'>12</a>\u001b[0m \u001b[39mprint\u001b[39m(\u001b[39m\"\u001b[39m\u001b[39mThe solution is:\u001b[39m\u001b[39m\"\u001b[39m, x)\n",
      "File \u001b[1;32m<__array_function__ internals>:5\u001b[0m, in \u001b[0;36msolve\u001b[1;34m(*args, **kwargs)\u001b[0m\n",
      "File \u001b[1;32mc:\\Users\\suman\\AppData\\Local\\Programs\\Python\\Python39\\lib\\site-packages\\numpy\\linalg\\linalg.py:380\u001b[0m, in \u001b[0;36msolve\u001b[1;34m(a, b)\u001b[0m\n\u001b[0;32m    378\u001b[0m a, _ \u001b[39m=\u001b[39m _makearray(a)\n\u001b[0;32m    379\u001b[0m _assert_stacked_2d(a)\n\u001b[1;32m--> 380\u001b[0m _assert_stacked_square(a)\n\u001b[0;32m    381\u001b[0m b, wrap \u001b[39m=\u001b[39m _makearray(b)\n\u001b[0;32m    382\u001b[0m t, result_t \u001b[39m=\u001b[39m _commonType(a, b)\n",
      "File \u001b[1;32mc:\\Users\\suman\\AppData\\Local\\Programs\\Python\\Python39\\lib\\site-packages\\numpy\\linalg\\linalg.py:203\u001b[0m, in \u001b[0;36m_assert_stacked_square\u001b[1;34m(*arrays)\u001b[0m\n\u001b[0;32m    201\u001b[0m m, n \u001b[39m=\u001b[39m a\u001b[39m.\u001b[39mshape[\u001b[39m-\u001b[39m\u001b[39m2\u001b[39m:]\n\u001b[0;32m    202\u001b[0m \u001b[39mif\u001b[39;00m m \u001b[39m!=\u001b[39m n:\n\u001b[1;32m--> 203\u001b[0m     \u001b[39mraise\u001b[39;00m LinAlgError(\u001b[39m'\u001b[39m\u001b[39mLast 2 dimensions of the array must be square\u001b[39m\u001b[39m'\u001b[39m)\n",
      "\u001b[1;31mLinAlgError\u001b[0m: Last 2 dimensions of the array must be square"
     ]
    }
   ],
   "source": [
    "import numpy as np\n",
    "\n",
    "A = np.array([[1, -1, 2],\n",
    "              [-2, 2, -4]])\n",
    "\n",
    "b = np.array([[1, -2, 1], [1, 2, 3], [2, 4, 2]])\n",
    "\n",
    "# Solve the system of equations\n",
    "x = np.linalg.solve(A, b)\n",
    "\n",
    "# Print the solution\n",
    "print(\"The solution is:\", x)\n"
   ]
  },
  {
   "cell_type": "code",
   "execution_count": 9,
   "metadata": {},
   "outputs": [
    {
     "ename": "LinAlgError",
     "evalue": "Last 2 dimensions of the array must be square",
     "output_type": "error",
     "traceback": [
      "\u001b[1;31m---------------------------------------------------------------------------\u001b[0m",
      "\u001b[1;31mLinAlgError\u001b[0m                               Traceback (most recent call last)",
      "\u001b[1;32mc:\\kunal\\Numpy\\numpy.ipynb Cell 6\u001b[0m in \u001b[0;36m<cell line: 11>\u001b[1;34m()\u001b[0m\n\u001b[0;32m      <a href='vscode-notebook-cell:/c%3A/kunal/Numpy/numpy.ipynb#W5sZmlsZQ%3D%3D?line=8'>9</a>\u001b[0m A \u001b[39m=\u001b[39m np\u001b[39m.\u001b[39marray([[\u001b[39m1\u001b[39m, \u001b[39m-\u001b[39m\u001b[39m1\u001b[39m, \u001b[39m2\u001b[39m], [\u001b[39m-\u001b[39m\u001b[39m2\u001b[39m, \u001b[39m2\u001b[39m, \u001b[39m-\u001b[39m\u001b[39m4\u001b[39m]])\n\u001b[0;32m     <a href='vscode-notebook-cell:/c%3A/kunal/Numpy/numpy.ipynb#W5sZmlsZQ%3D%3D?line=9'>10</a>\u001b[0m B \u001b[39m=\u001b[39m np\u001b[39m.\u001b[39marray([\u001b[39m1\u001b[39m, \u001b[39m2\u001b[39m])\n\u001b[1;32m---> <a href='vscode-notebook-cell:/c%3A/kunal/Numpy/numpy.ipynb#W5sZmlsZQ%3D%3D?line=10'>11</a>\u001b[0m X \u001b[39m=\u001b[39m np\u001b[39m.\u001b[39;49mlinalg\u001b[39m.\u001b[39;49minv(A)\u001b[39m.\u001b[39mdot(B)\n\u001b[0;32m     <a href='vscode-notebook-cell:/c%3A/kunal/Numpy/numpy.ipynb#W5sZmlsZQ%3D%3D?line=12'>13</a>\u001b[0m \u001b[39mprint\u001b[39m(X)\n",
      "File \u001b[1;32m<__array_function__ internals>:5\u001b[0m, in \u001b[0;36minv\u001b[1;34m(*args, **kwargs)\u001b[0m\n",
      "File \u001b[1;32mc:\\Users\\suman\\AppData\\Local\\Programs\\Python\\Python39\\lib\\site-packages\\numpy\\linalg\\linalg.py:540\u001b[0m, in \u001b[0;36minv\u001b[1;34m(a)\u001b[0m\n\u001b[0;32m    538\u001b[0m a, wrap \u001b[39m=\u001b[39m _makearray(a)\n\u001b[0;32m    539\u001b[0m _assert_stacked_2d(a)\n\u001b[1;32m--> 540\u001b[0m _assert_stacked_square(a)\n\u001b[0;32m    541\u001b[0m t, result_t \u001b[39m=\u001b[39m _commonType(a)\n\u001b[0;32m    543\u001b[0m signature \u001b[39m=\u001b[39m \u001b[39m'\u001b[39m\u001b[39mD->D\u001b[39m\u001b[39m'\u001b[39m \u001b[39mif\u001b[39;00m isComplexType(t) \u001b[39melse\u001b[39;00m \u001b[39m'\u001b[39m\u001b[39md->d\u001b[39m\u001b[39m'\u001b[39m\n",
      "File \u001b[1;32mc:\\Users\\suman\\AppData\\Local\\Programs\\Python\\Python39\\lib\\site-packages\\numpy\\linalg\\linalg.py:203\u001b[0m, in \u001b[0;36m_assert_stacked_square\u001b[1;34m(*arrays)\u001b[0m\n\u001b[0;32m    201\u001b[0m m, n \u001b[39m=\u001b[39m a\u001b[39m.\u001b[39mshape[\u001b[39m-\u001b[39m\u001b[39m2\u001b[39m:]\n\u001b[0;32m    202\u001b[0m \u001b[39mif\u001b[39;00m m \u001b[39m!=\u001b[39m n:\n\u001b[1;32m--> 203\u001b[0m     \u001b[39mraise\u001b[39;00m LinAlgError(\u001b[39m'\u001b[39m\u001b[39mLast 2 dimensions of the array must be square\u001b[39m\u001b[39m'\u001b[39m)\n",
      "\u001b[1;31mLinAlgError\u001b[0m: Last 2 dimensions of the array must be square"
     ]
    }
   ],
   "source": [
    "# A = np.array([[4, 3, 2], [-2, 2, 3], [3, -5, 2]])\n",
    "# B = np.array([25, -10, -4])\n",
    "# X = np.linalg.inv(A).dot(B)\n",
    "\n",
    "# print(X)\n",
    "\n",
    "\n",
    "\n",
    "A = np.array([[1, -1, 2], [-2, 2, -4]])\n",
    "B = np.array([1, 2])\n",
    "X = np.linalg.inv(A).dot(B)\n",
    "\n",
    "print(X)"
   ]
  },
  {
   "cell_type": "code",
   "execution_count": 20,
   "metadata": {},
   "outputs": [
    {
     "name": "stdout",
     "output_type": "stream",
     "text": [
      "[[ 0.17647059 -0.05882353]\n",
      " [ 0.09803922  0.07843137]]\n"
     ]
    }
   ],
   "source": [
    "m_list = [[4, 3], [-5, 9]]\n",
    "A = np.array(m_list)\n",
    "inv_A = np.linalg.inv(A)\n",
    "\n",
    "print(inv_A)\n"
   ]
  },
  {
   "cell_type": "code",
   "execution_count": 22,
   "metadata": {},
   "outputs": [
    {
     "name": "stdout",
     "output_type": "stream",
     "text": [
      "[2. 4.]\n"
     ]
    }
   ],
   "source": [
    "B = np.array([20, 26])\n",
    "X = np.linalg.inv(A).dot(B)\n",
    "\n",
    "print(X)"
   ]
  },
  {
   "cell_type": "code",
   "execution_count": 25,
   "metadata": {},
   "outputs": [
    {
     "ename": "LinAlgError",
     "evalue": "Last 2 dimensions of the array must be square",
     "output_type": "error",
     "traceback": [
      "\u001b[1;31m---------------------------------------------------------------------------\u001b[0m",
      "\u001b[1;31mLinAlgError\u001b[0m                               Traceback (most recent call last)",
      "\u001b[1;32mc:\\kunal\\Numpy\\numpy.ipynb Cell 9\u001b[0m in \u001b[0;36m<cell line: 3>\u001b[1;34m()\u001b[0m\n\u001b[0;32m      <a href='vscode-notebook-cell:/c%3A/kunal/Numpy/numpy.ipynb#X12sZmlsZQ%3D%3D?line=0'>1</a>\u001b[0m n_list \u001b[39m=\u001b[39m [[\u001b[39m1\u001b[39m, \u001b[39m-\u001b[39m\u001b[39m1\u001b[39m, \u001b[39m2\u001b[39m],[\u001b[39m-\u001b[39m\u001b[39m2\u001b[39m, \u001b[39m2\u001b[39m, \u001b[39m-\u001b[39m\u001b[39m4\u001b[39m]]\n\u001b[0;32m      <a href='vscode-notebook-cell:/c%3A/kunal/Numpy/numpy.ipynb#X12sZmlsZQ%3D%3D?line=1'>2</a>\u001b[0m C \u001b[39m=\u001b[39m np\u001b[39m.\u001b[39marray(n_list)\n\u001b[1;32m----> <a href='vscode-notebook-cell:/c%3A/kunal/Numpy/numpy.ipynb#X12sZmlsZQ%3D%3D?line=2'>3</a>\u001b[0m inv_C \u001b[39m=\u001b[39m np\u001b[39m.\u001b[39;49mlinalg\u001b[39m.\u001b[39;49minv(C)\n\u001b[0;32m      <a href='vscode-notebook-cell:/c%3A/kunal/Numpy/numpy.ipynb#X12sZmlsZQ%3D%3D?line=3'>4</a>\u001b[0m \u001b[39mprint\u001b[39m(inv_C)\n\u001b[0;32m      <a href='vscode-notebook-cell:/c%3A/kunal/Numpy/numpy.ipynb#X12sZmlsZQ%3D%3D?line=5'>6</a>\u001b[0m D \u001b[39m=\u001b[39m np\u001b[39m.\u001b[39marray([\u001b[39m1\u001b[39m, \u001b[39m-\u001b[39m\u001b[39m2\u001b[39m])\n",
      "File \u001b[1;32m<__array_function__ internals>:5\u001b[0m, in \u001b[0;36minv\u001b[1;34m(*args, **kwargs)\u001b[0m\n",
      "File \u001b[1;32mc:\\Users\\suman\\AppData\\Local\\Programs\\Python\\Python39\\lib\\site-packages\\numpy\\linalg\\linalg.py:540\u001b[0m, in \u001b[0;36minv\u001b[1;34m(a)\u001b[0m\n\u001b[0;32m    538\u001b[0m a, wrap \u001b[39m=\u001b[39m _makearray(a)\n\u001b[0;32m    539\u001b[0m _assert_stacked_2d(a)\n\u001b[1;32m--> 540\u001b[0m _assert_stacked_square(a)\n\u001b[0;32m    541\u001b[0m t, result_t \u001b[39m=\u001b[39m _commonType(a)\n\u001b[0;32m    543\u001b[0m signature \u001b[39m=\u001b[39m \u001b[39m'\u001b[39m\u001b[39mD->D\u001b[39m\u001b[39m'\u001b[39m \u001b[39mif\u001b[39;00m isComplexType(t) \u001b[39melse\u001b[39;00m \u001b[39m'\u001b[39m\u001b[39md->d\u001b[39m\u001b[39m'\u001b[39m\n",
      "File \u001b[1;32mc:\\Users\\suman\\AppData\\Local\\Programs\\Python\\Python39\\lib\\site-packages\\numpy\\linalg\\linalg.py:203\u001b[0m, in \u001b[0;36m_assert_stacked_square\u001b[1;34m(*arrays)\u001b[0m\n\u001b[0;32m    201\u001b[0m m, n \u001b[39m=\u001b[39m a\u001b[39m.\u001b[39mshape[\u001b[39m-\u001b[39m\u001b[39m2\u001b[39m:]\n\u001b[0;32m    202\u001b[0m \u001b[39mif\u001b[39;00m m \u001b[39m!=\u001b[39m n:\n\u001b[1;32m--> 203\u001b[0m     \u001b[39mraise\u001b[39;00m LinAlgError(\u001b[39m'\u001b[39m\u001b[39mLast 2 dimensions of the array must be square\u001b[39m\u001b[39m'\u001b[39m)\n",
      "\u001b[1;31mLinAlgError\u001b[0m: Last 2 dimensions of the array must be square"
     ]
    }
   ],
   "source": [
    "n_list = [[1, -1, 2],[-2, 2, -4]]\n",
    "C = np.array(n_list)\n",
    "inv_C = np.linalg.inv(C)\n",
    "print(inv_C)\n",
    "\n",
    "D = np.array([1, -2])\n",
    "X = np.linalg.inv(C).dot(D)\n",
    "print(X)"
   ]
  },
  {
   "cell_type": "code",
   "execution_count": null,
   "metadata": {},
   "outputs": [],
   "source": []
  }
 ],
 "metadata": {
  "kernelspec": {
   "display_name": "Python 3",
   "language": "python",
   "name": "python3"
  },
  "language_info": {
   "codemirror_mode": {
    "name": "ipython",
    "version": 3
   },
   "file_extension": ".py",
   "mimetype": "text/x-python",
   "name": "python",
   "nbconvert_exporter": "python",
   "pygments_lexer": "ipython3",
   "version": "3.9.6"
  },
  "orig_nbformat": 4
 },
 "nbformat": 4,
 "nbformat_minor": 2
}
